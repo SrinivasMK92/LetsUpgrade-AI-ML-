{
 "cells": [
  {
   "cell_type": "code",
   "execution_count": 2,
   "metadata": {},
   "outputs": [
    {
     "name": "stdout",
     "output_type": "stream",
     "text": [
      "3 5 7 11 13 17 19 23 29 31 37 41 43 47 53 59 61 67 71 73 "
     ]
    }
   ],
   "source": [
    "def prime(N): \n",
    "    a, b, flag = 0, 0, 0 \n",
    "    for a in range(3, N + 1, 1): \n",
    "        flag = 1 \n",
    "        for b in range(2, ((a // 2) + 1), 1): \n",
    "            if (a % b == 0): \n",
    "                flag = 0\n",
    "                break \n",
    "        if (flag == 1): \n",
    "            print(a, end = \" \") \n",
    "N = 75\n",
    "prime(N)"
   ]
  },
  {
   "cell_type": "raw",
   "metadata": {},
   "source": [
    "Question 1 :\n",
    "Write a Python program to find the first 20 non-even prime natural numbers."
   ]
  },
  {
   "cell_type": "code",
   "execution_count": 2,
   "metadata": {},
   "outputs": [
    {
     "name": "stdout",
     "output_type": "stream",
     "text": [
      "Hello Universe\n",
      "llo\n",
      "14\n",
      "Hello universe\n",
      "hello universe\n",
      "1\n",
      "6\n",
      "False\n",
      "False\n",
      "HELLO UNIVERSE\n",
      "Hello Universe\n",
      "hELLO uNIVERSE\n",
      "False\n",
      "Hello Universe,How old are you \n",
      "Hello Earth\n"
     ]
    }
   ],
   "source": [
    "a = \"Hello Universe\"\n",
    "b = a.capitalize()\n",
    "c = a.casefold()\n",
    "d = a.count(\"n\")\n",
    "e = a.index(\"U\")\n",
    "f = a.islower()\n",
    "g = a.isupper()\n",
    "h = a.upper()\n",
    "i = a.lstrip()\n",
    "j = a.swapcase()\n",
    "k = \"or\" in a\n",
    "l = \"How old are you \"\n",
    "m = a.replace(\"Universe\",\"Earth\")\n",
    "\n",
    "print(a)\n",
    "print(a[2:5])\n",
    "print(len(a))\n",
    "print(b)\n",
    "print(c)\n",
    "print(d)\n",
    "print(e)\n",
    "print(f)\n",
    "print(g)\n",
    "print(h)\n",
    "print(i)\n",
    "print(j)\n",
    "print(k)\n",
    "print(a+\",\"+l)\n",
    "print(m)"
   ]
  },
  {
   "cell_type": "raw",
   "metadata": {},
   "source": [
    "Question 2 :\n",
    "Write a Python program to implement 15 functions of string.\n"
   ]
  },
  {
   "cell_type": "code",
   "execution_count": 5,
   "metadata": {},
   "outputs": [
    {
     "name": "stdout",
     "output_type": "stream",
     "text": [
      "Enter your string here Palindrome\n",
      "Enter another string here Anagram\n",
      "Entered String is neither Palindrome nor Anagram\n",
      "Palindrome Anagram\n"
     ]
    }
   ],
   "source": [
    "    word = input(\"Enter your string here \")\n",
    "    if word.lower() == word.lower()[::-1]:\n",
    "        print(\"Entered String is Palindrome\")\n",
    "    else:\n",
    "        word1 = input(\"Enter another string here \")\n",
    "        if sorted(word.lower()) == sorted(word1.lower()):\n",
    "            print(\"Entered String is Anagram\")\n",
    "        else:\n",
    "             print(\"Entered String is neither Palindrome nor Anagram\")\n",
    "            \n",
    "print(word , word1)"
   ]
  },
  {
   "cell_type": "code",
   "execution_count": null,
   "metadata": {},
   "outputs": [],
   "source": [
    "Question 3:Write a Python program to check if the given string is a Palindrome or Anagram or None of them. Display\n",
    "the message accordingly to the user."
   ]
  },
  {
   "cell_type": "code",
   "execution_count": 4,
   "metadata": {},
   "outputs": [
    {
     "name": "stdout",
     "output_type": "stream",
     "text": [
      "Srinivasmk8gmailcom\n"
     ]
    }
   ],
   "source": [
    "a = \"Srinivasmk8@gmail.com\"\n",
    "b = \"\"\n",
    "for char in a:\n",
    "    if char.isalnum():\n",
    "       b += char\n",
    "\n",
    "print(b)"
   ]
  },
  {
   "cell_type": "code",
   "execution_count": null,
   "metadata": {},
   "outputs": [],
   "source": [
    "Question 4:\n",
    "Write a Python's user-defined function that removes all the additional characters from the string and\n",
    "convert it finally to lower case using built-in lower()."
   ]
  }
 ],
 "metadata": {
  "kernelspec": {
   "display_name": "Python 3",
   "language": "python",
   "name": "python3"
  },
  "language_info": {
   "codemirror_mode": {
    "name": "ipython",
    "version": 3
   },
   "file_extension": ".py",
   "mimetype": "text/x-python",
   "name": "python",
   "nbconvert_exporter": "python",
   "pygments_lexer": "ipython3",
   "version": "3.8.3"
  }
 },
 "nbformat": 4,
 "nbformat_minor": 4
}
