{
 "cells": [
  {
   "cell_type": "raw",
   "metadata": {},
   "source": [
    "\n",
    "Question 1\n",
    "Research on whether addition, subtraction, multiplication, division, floor division and modulo operations be performed on complex numbers\n",
    "\n",
    "Only Addition, Subtraction, Multiplication & Division operations can be performed on complex numbers.\n",
    "\n",
    "Floor division and Modulo operations are not defined for complex numbers."
   ]
  },
  {
   "cell_type": "code",
   "execution_count": 2,
   "metadata": {},
   "outputs": [
    {
     "name": "stdout",
     "output_type": "stream",
     "text": [
      "(9+1j)\n"
     ]
    }
   ],
   "source": [
    "# Addition operation\n",
    "\n",
    "a = (1+3j)\n",
    "b = (8-2j)\n",
    "i = a+b\n",
    "print (i)"
   ]
  },
  {
   "cell_type": "code",
   "execution_count": 3,
   "metadata": {},
   "outputs": [
    {
     "name": "stdout",
     "output_type": "stream",
     "text": [
      "(-7+5j)\n"
     ]
    }
   ],
   "source": [
    "# Subtraction Operation\n",
    "\n",
    "a = (1+3j)\n",
    "b = (8-2j)\n",
    "i = a-b\n",
    "print (i)"
   ]
  },
  {
   "cell_type": "code",
   "execution_count": 4,
   "metadata": {},
   "outputs": [
    {
     "name": "stdout",
     "output_type": "stream",
     "text": [
      "(14+22j)\n"
     ]
    }
   ],
   "source": [
    "# Multipication operation\n",
    "\n",
    "a = (1+3j)\n",
    "b = (8-2j)\n",
    "i = a*b\n",
    "print (i)"
   ]
  },
  {
   "cell_type": "code",
   "execution_count": 5,
   "metadata": {},
   "outputs": [
    {
     "name": "stdout",
     "output_type": "stream",
     "text": [
      "(0.029411764705882353+0.38235294117647056j)\n"
     ]
    }
   ],
   "source": [
    "# Division operation\n",
    "\n",
    "a = (1+3j)\n",
    "b = (8-2j)\n",
    "i = a/b\n",
    "print (i)"
   ]
  },
  {
   "cell_type": "raw",
   "metadata": {},
   "source": [
    "Question 2 :\n",
    "Research on range() functions and its parameters."
   ]
  },
  {
   "cell_type": "code",
   "execution_count": 8,
   "metadata": {},
   "outputs": [
    {
     "name": "stdout",
     "output_type": "stream",
     "text": [
      "0 2 4 "
     ]
    }
   ],
   "source": [
    "a = range(0,6,2)\n",
    "for i in a:\n",
    "    print (i,end=\" \")"
   ]
  },
  {
   "cell_type": "raw",
   "metadata": {},
   "source": [
    "Question 3:\n",
    "Consider two numbers. Perform their subtraction and if the result of subtraction is greater than 25, print\n",
    "their multiplication result else print their division result."
   ]
  },
  {
   "cell_type": "code",
   "execution_count": 11,
   "metadata": {},
   "outputs": [
    {
     "name": "stdout",
     "output_type": "stream",
     "text": [
      "1.25\n"
     ]
    }
   ],
   "source": [
    "\n",
    "a = 75\n",
    "b = 60\n",
    "c= a-b\n",
    "if c > 25:\n",
    "    print(a*b)\n",
    "else:\n",
    "    print(a/b)\n",
    "    "
   ]
  },
  {
   "cell_type": "raw",
   "metadata": {},
   "source": [
    "Question 4:\n",
    "Consider a list of 10 elements of integer values. If the number in the list is divisible by 2, print the result as\n",
    "\"square of that number minus 2\"."
   ]
  },
  {
   "cell_type": "code",
   "execution_count": 12,
   "metadata": {},
   "outputs": [
    {
     "name": "stdout",
     "output_type": "stream",
     "text": [
      "482\n",
      "574\n",
      "674\n",
      "782\n",
      "898\n"
     ]
    }
   ],
   "source": [
    "\n",
    "a = [21,22,23,24,25,26,27,28,29,30]\n",
    "for i in a:\n",
    "    if i%2==0:\n",
    "        print(i**2-2)"
   ]
  },
  {
   "cell_type": "raw",
   "metadata": {},
   "source": [
    "Question 5:\n",
    "Consider a list of 10 elements. Print all the elements in the list which are greater than 7 when that number\n",
    "is divided 2."
   ]
  },
  {
   "cell_type": "code",
   "execution_count": 14,
   "metadata": {},
   "outputs": [
    {
     "name": "stdout",
     "output_type": "stream",
     "text": [
      "62\n",
      "86\n",
      "28\n",
      "70\n",
      "56\n"
     ]
    }
   ],
   "source": [
    "\n",
    "a = [62,7,86,28,70,56,8,10]\n",
    "for i in a:\n",
    "    if i//2 > 7:\n",
    "        print(i)"
   ]
  },
  {
   "cell_type": "code",
   "execution_count": null,
   "metadata": {},
   "outputs": [],
   "source": []
  }
 ],
 "metadata": {
  "kernelspec": {
   "display_name": "Python 3",
   "language": "python",
   "name": "python3"
  },
  "language_info": {
   "codemirror_mode": {
    "name": "ipython",
    "version": 3
   },
   "file_extension": ".py",
   "mimetype": "text/x-python",
   "name": "python",
   "nbconvert_exporter": "python",
   "pygments_lexer": "ipython3",
   "version": "3.8.3"
  }
 },
 "nbformat": 4,
 "nbformat_minor": 4
}
