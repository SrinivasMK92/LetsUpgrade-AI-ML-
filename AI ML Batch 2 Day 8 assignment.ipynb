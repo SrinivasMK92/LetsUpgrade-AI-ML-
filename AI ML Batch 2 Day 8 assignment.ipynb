{
 "cells": [
  {
   "cell_type": "raw",
   "metadata": {},
   "source": [
    "Question 1:\n",
    "    \n",
    "Recreate “NB 21 map, filter, lambda.ipynb” to try different variations or perform different calculations from\n",
    "the ones that are in the NB\n"
   ]
  },
  {
   "cell_type": "code",
   "execution_count": 5,
   "metadata": {},
   "outputs": [
    {
     "name": "stdout",
     "output_type": "stream",
     "text": [
      "81\n"
     ]
    }
   ],
   "source": [
    "# map(function, iterables)\n",
    "def sqr(a):\n",
    "    return a*a\n",
    "x= sqr(9)\n",
    "print(x)"
   ]
  },
  {
   "cell_type": "code",
   "execution_count": 3,
   "metadata": {},
   "outputs": [
    {
     "name": "stdout",
     "output_type": "stream",
     "text": [
      "[4, 4, 2]\n"
     ]
    }
   ],
   "source": [
    "def sqr(a,b):\n",
    "    return a*b\n",
    "# your code goes here3\n",
    "x = map(sqr, [2,2,1], [2,2,2])\n",
    "print(list(x))"
   ]
  },
  {
   "cell_type": "code",
   "execution_count": 6,
   "metadata": {},
   "outputs": [
    {
     "name": "stdout",
     "output_type": "stream",
     "text": [
      "<function abc.<locals>.<lambda> at 0x000001FCF87F1310>\n",
      "13\n"
     ]
    }
   ],
   "source": [
    "# lambda within user defined functions\n",
    "def abc(x):\n",
    "    return lambda y: x+y\n",
    "t = abc(8)\n",
    "print(t)\n",
    "print(t(5))"
   ]
  },
  {
   "cell_type": "code",
   "execution_count": 9,
   "metadata": {},
   "outputs": [
    {
     "name": "stdout",
     "output_type": "stream",
     "text": [
      "[2.5, 4.5, 8.5, 10.5]\n"
     ]
    }
   ],
   "source": [
    "# Use lambda functions along with map function\n",
    "l = [0,2,6,8]\n",
    "x = map(lambda x: x+2.5,l)\n",
    "print(list(x))"
   ]
  },
  {
   "cell_type": "code",
   "execution_count": 12,
   "metadata": {},
   "outputs": [
    {
     "name": "stdout",
     "output_type": "stream",
     "text": [
      "[8, 9, 11]\n"
     ]
    }
   ],
   "source": [
    "l = [6,8,9,11]\n",
    "# your code goes here1.3\n",
    "x = filter( lambda x: x>=8 ,l )\n",
    "print(list(x))"
   ]
  },
  {
   "cell_type": "raw",
   "metadata": {},
   "source": [
    "Question 2:\n",
    "Recreate your own Python NB for “Classes and Objects” from the pdf provided namely\n",
    "“Classes & Objects.pdf”"
   ]
  },
  {
   "cell_type": "code",
   "execution_count": 13,
   "metadata": {},
   "outputs": [
    {
     "name": "stdout",
     "output_type": "stream",
     "text": [
      "Hello Python.\n",
      "Hello Python.\n"
     ]
    }
   ],
   "source": [
    "class abc:\n",
    "    def show(self):\n",
    "        print(\"Hello Python.\")\n",
    "\n",
    "s = abc()\n",
    "s.show()\n",
    "t = abc()\n",
    "t.show()"
   ]
  },
  {
   "cell_type": "code",
   "execution_count": null,
   "metadata": {},
   "outputs": [],
   "source": []
  }
 ],
 "metadata": {
  "kernelspec": {
   "display_name": "Python 3",
   "language": "python",
   "name": "python3"
  },
  "language_info": {
   "codemirror_mode": {
    "name": "ipython",
    "version": 3
   },
   "file_extension": ".py",
   "mimetype": "text/x-python",
   "name": "python",
   "nbconvert_exporter": "python",
   "pygments_lexer": "ipython3",
   "version": "3.8.3"
  }
 },
 "nbformat": 4,
 "nbformat_minor": 4
}
